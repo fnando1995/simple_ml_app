{
 "cells": [
  {
   "cell_type": "markdown",
   "metadata": {},
   "source": [
    "## TRAINED MODEL"
   ]
  },
  {
   "cell_type": "code",
   "execution_count": 1,
   "metadata": {},
   "outputs": [
    {
     "data": {
      "text/html": [
       "<div>\n",
       "<style scoped>\n",
       "    .dataframe tbody tr th:only-of-type {\n",
       "        vertical-align: middle;\n",
       "    }\n",
       "\n",
       "    .dataframe tbody tr th {\n",
       "        vertical-align: top;\n",
       "    }\n",
       "\n",
       "    .dataframe thead th {\n",
       "        text-align: right;\n",
       "    }\n",
       "</style>\n",
       "<table border=\"1\" class=\"dataframe\">\n",
       "  <thead>\n",
       "    <tr style=\"text-align: right;\">\n",
       "      <th></th>\n",
       "      <th>recency</th>\n",
       "      <th>frequency</th>\n",
       "      <th>monetary</th>\n",
       "    </tr>\n",
       "    <tr>\n",
       "      <th>Customer ID</th>\n",
       "      <th></th>\n",
       "      <th></th>\n",
       "      <th></th>\n",
       "    </tr>\n",
       "  </thead>\n",
       "  <tbody>\n",
       "    <tr>\n",
       "      <th>12346.0</th>\n",
       "      <td>326</td>\n",
       "      <td>1</td>\n",
       "      <td>77183.60</td>\n",
       "    </tr>\n",
       "    <tr>\n",
       "      <th>12347.0</th>\n",
       "      <td>3</td>\n",
       "      <td>7</td>\n",
       "      <td>4310.00</td>\n",
       "    </tr>\n",
       "    <tr>\n",
       "      <th>12348.0</th>\n",
       "      <td>76</td>\n",
       "      <td>4</td>\n",
       "      <td>1797.24</td>\n",
       "    </tr>\n",
       "    <tr>\n",
       "      <th>12349.0</th>\n",
       "      <td>19</td>\n",
       "      <td>1</td>\n",
       "      <td>1757.55</td>\n",
       "    </tr>\n",
       "    <tr>\n",
       "      <th>12350.0</th>\n",
       "      <td>311</td>\n",
       "      <td>1</td>\n",
       "      <td>334.40</td>\n",
       "    </tr>\n",
       "  </tbody>\n",
       "</table>\n",
       "</div>"
      ],
      "text/plain": [
       "             recency  frequency  monetary\n",
       "Customer ID                              \n",
       "12346.0          326          1  77183.60\n",
       "12347.0            3          7   4310.00\n",
       "12348.0           76          4   1797.24\n",
       "12349.0           19          1   1757.55\n",
       "12350.0          311          1    334.40"
      ]
     },
     "execution_count": 1,
     "metadata": {},
     "output_type": "execute_result"
    }
   ],
   "source": [
    "import pandas as pd\n",
    "import datetime as dt\n",
    "\n",
    "# Cargar el dataset\n",
    "df = pd.read_excel(\"../data/online_retail_II.xlsx\", sheet_name=\"Year 2010-2011\")\n",
    "\n",
    "# Eliminar filas con valores nulos en las columnas relevantes\n",
    "df.dropna(subset=['Customer ID'], inplace=True)\n",
    "\n",
    "# Filtrar las transacciones canceladas (con 'C' en la columna 'Invoice')\n",
    "df = df[~df['Invoice'].str.contains('C', na=False)]\n",
    "\n",
    "# Crear la columna 'TotalPrice' que representa el valor total de cada transacción\n",
    "df['TotalPrice'] = df['Quantity'] * df['Price']\n",
    "\n",
    "# Calcular la fecha más reciente en el dataset\n",
    "today_date = dt.datetime(2011, 12, 11)\n",
    "\n",
    "# Calcular las métricas RFM agrupando por 'Customer ID'\n",
    "rfm = df.groupby('Customer ID').agg({\n",
    "    'InvoiceDate': lambda x: (today_date - x.max()).days,  # Recency\n",
    "    'Invoice': 'nunique',  # Frequency\n",
    "    'TotalPrice': 'sum'  # Monetary\n",
    "})\n",
    "\n",
    "# Renombrar las columnas\n",
    "rfm.columns = ['recency', 'frequency', 'monetary']\n",
    "\n",
    "# Verificar las primeras filas del DataFrame resultante\n",
    "rfm.head()\n"
   ]
  },
  {
   "cell_type": "code",
   "execution_count": 2,
   "metadata": {},
   "outputs": [
    {
     "data": {
      "image/png": "[encoded data removed]",
      "text/plain": [
       "<Figure size 640x480 with 1 Axes>"
      ]
     },
     "metadata": {},
     "output_type": "display_data"
    },
    {
     "name": "stdout",
     "output_type": "stream",
     "text": [
      "Modelo K-Means entrenado y guardado como 'model.pkl'\n"
     ]
    }
   ],
   "source": [
    "from sklearn.cluster import KMeans\n",
    "import joblib\n",
    "import matplotlib.pyplot as plt\n",
    "\n",
    "# Seleccionamos las columnas que utilizaremos para el clustering\n",
    "X = rfm[['recency', 'frequency', 'monetary']]\n",
    "\n",
    "# Determinar el número óptimo de clusters (Método del codo)\n",
    "def calculate_wcss(data):\n",
    "    wcss = []\n",
    "    for n in range(1, 11):\n",
    "        kmeans = KMeans(n_clusters=n, init='k-means++', max_iter=300, n_init=10, random_state=42)\n",
    "        kmeans.fit(data)\n",
    "        wcss.append(kmeans.inertia_)\n",
    "    return wcss\n",
    "\n",
    "wcss = calculate_wcss(X)\n",
    "\n",
    "# Graficar el método del codo\n",
    "plt.plot(range(1, 11), wcss)\n",
    "plt.title('Método del Codo')\n",
    "plt.xlabel('Número de Clusters')\n",
    "plt.ylabel('WCSS')\n",
    "plt.show()\n",
    "\n",
    "# Entrenar el modelo K-Means con el número óptimo de clusters (supongamos 4)\n",
    "kmeans = KMeans(n_clusters=4, init='k-means++', max_iter=300, n_init=10, random_state=42)\n",
    "kmeans.fit(X)\n",
    "\n",
    "# Asignar los clusters al DataFrame original\n",
    "rfm['Cluster'] = kmeans.labels_\n",
    "\n",
    "# Guardar el modelo entrenado\n",
    "# joblib.dump(kmeans, 'model.pkl')\n",
    "\n",
    "print(\"Modelo K-Means entrenado y guardado como 'model.pkl'\")\n"
   ]
  },
  {
   "cell_type": "code",
   "execution_count": 3,
   "metadata": {},
   "outputs": [],
   "source": [
    "# Guardar el DataFrame rfm con las asignaciones de clusters\n",
    "rfm.to_csv(\"../data/rfm_with_clusters.csv\", index=False)\n"
   ]
  },
  {
   "cell_type": "code",
   "execution_count": 4,
   "metadata": {},
   "outputs": [
    {
     "data": {
      "text/plain": [
       "['model.pkl']"
      ]
     },
     "execution_count": 4,
     "metadata": {},
     "output_type": "execute_result"
    }
   ],
   "source": [
    "joblib.dump(kmeans, '../data/model.pkl')"
   ]
  },
  {
   "cell_type": "code",
   "execution_count": null,
   "metadata": {},
   "outputs": [],
   "source": []
  }
 ],
 "metadata": {
  "kernelspec": {
   "display_name": "environ",
   "language": "python",
   "name": "python3"
  },
  "language_info": {
   "codemirror_mode": {
    "name": "ipython",
    "version": 3
   },
   "file_extension": ".py",
   "mimetype": "text/x-python",
   "name": "python",
   "nbconvert_exporter": "python",
   "pygments_lexer": "ipython3",
   "version": "3.12.6"
  }
 },
 "nbformat": 4,
 "nbformat_minor": 2
}
